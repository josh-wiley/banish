{
 "cells": [
  {
   "cell_type": "markdown",
   "metadata": {},
   "source": [
    "# Fever Dataset"
   ]
  },
  {
   "cell_type": "code",
   "execution_count": 6,
   "metadata": {},
   "outputs": [
    {
     "name": "stdout",
     "output_type": "stream",
     "text": [
      "Downloading and preparing dataset fever/v1.0 (download: 42.78 MiB, generated: 38.19 MiB, post-processed: Unknown size, total: 80.96 MiB) to /home/vscode/.cache/huggingface/datasets/fever/v1.0/1.0.0/7f8936e0558704771b08c7ce9cc202071b29a0050603374507ba61d23c00a58e...\n"
     ]
    },
    {
     "data": {
      "application/vnd.jupyter.widget-view+json": {
       "model_id": "5939398e1bdf4bebaf7ba2dce256c8b4",
       "version_major": 2,
       "version_minor": 0
      },
      "text/plain": [
       "Downloading data files:   0%|          | 0/6 [00:00<?, ?it/s]"
      ]
     },
     "metadata": {},
     "output_type": "display_data"
    },
    {
     "data": {
      "application/vnd.jupyter.widget-view+json": {
       "model_id": "2b53fbe60b1244d6952a271e2f6e6996",
       "version_major": 2,
       "version_minor": 0
      },
      "text/plain": [
       "Downloading data:   0%|          | 0.00/33.0M [00:00<?, ?B/s]"
      ]
     },
     "metadata": {},
     "output_type": "display_data"
    },
    {
     "data": {
      "application/vnd.jupyter.widget-view+json": {
       "model_id": "b26a6b2976254ee2a2a921840b4a5f0b",
       "version_major": 2,
       "version_minor": 0
      },
      "text/plain": [
       "Downloading data:   0%|          | 0.00/4.35M [00:00<?, ?B/s]"
      ]
     },
     "metadata": {},
     "output_type": "display_data"
    },
    {
     "data": {
      "application/vnd.jupyter.widget-view+json": {
       "model_id": "5bedbe7c57f249cab31dbab0ba5704fc",
       "version_major": 2,
       "version_minor": 0
      },
      "text/plain": [
       "Downloading data:   0%|          | 0.00/1.53M [00:00<?, ?B/s]"
      ]
     },
     "metadata": {},
     "output_type": "display_data"
    },
    {
     "data": {
      "application/vnd.jupyter.widget-view+json": {
       "model_id": "dcfd42693c954f89a7aa1c39eb6bc958",
       "version_major": 2,
       "version_minor": 0
      },
      "text/plain": [
       "Downloading data:   0%|          | 0.00/1.60M [00:00<?, ?B/s]"
      ]
     },
     "metadata": {},
     "output_type": "display_data"
    },
    {
     "data": {
      "application/vnd.jupyter.widget-view+json": {
       "model_id": "682f42c5bb034f39906fb17deb5d3fc2",
       "version_major": 2,
       "version_minor": 0
      },
      "text/plain": [
       "Downloading data:   0%|          | 0.00/2.17M [00:00<?, ?B/s]"
      ]
     },
     "metadata": {},
     "output_type": "display_data"
    },
    {
     "data": {
      "application/vnd.jupyter.widget-view+json": {
       "model_id": "b627ac93163f48e1a30edb4613702027",
       "version_major": 2,
       "version_minor": 0
      },
      "text/plain": [
       "Downloading data:   0%|          | 0.00/2.18M [00:00<?, ?B/s]"
      ]
     },
     "metadata": {},
     "output_type": "display_data"
    },
    {
     "data": {
      "application/vnd.jupyter.widget-view+json": {
       "model_id": "4cee3b1a0a7c4df6b0afb35f3c96908f",
       "version_major": 2,
       "version_minor": 0
      },
      "text/plain": [
       "Extracting data files:   0%|          | 0/6 [00:00<?, ?it/s]"
      ]
     },
     "metadata": {},
     "output_type": "display_data"
    },
    {
     "data": {
      "application/vnd.jupyter.widget-view+json": {
       "model_id": "6db43f374e304947bd6b0737060c8ea0",
       "version_major": 2,
       "version_minor": 0
      },
      "text/plain": [
       "Generating train split:   0%|          | 0/311431 [00:00<?, ? examples/s]"
      ]
     },
     "metadata": {},
     "output_type": "display_data"
    },
    {
     "data": {
      "application/vnd.jupyter.widget-view+json": {
       "model_id": "923a889e366d4054a92e6807bf59f1b6",
       "version_major": 2,
       "version_minor": 0
      },
      "text/plain": [
       "Generating labelled_dev split:   0%|          | 0/37566 [00:00<?, ? examples/s]"
      ]
     },
     "metadata": {},
     "output_type": "display_data"
    },
    {
     "data": {
      "application/vnd.jupyter.widget-view+json": {
       "model_id": "6d9d3591ae1e41e9ada792022ecad9bb",
       "version_major": 2,
       "version_minor": 0
      },
      "text/plain": [
       "Generating unlabelled_dev split:   0%|          | 0/19998 [00:00<?, ? examples/s]"
      ]
     },
     "metadata": {},
     "output_type": "display_data"
    },
    {
     "data": {
      "application/vnd.jupyter.widget-view+json": {
       "model_id": "2569f398a54444ea80e83751028fd435",
       "version_major": 2,
       "version_minor": 0
      },
      "text/plain": [
       "Generating unlabelled_test split:   0%|          | 0/19998 [00:00<?, ? examples/s]"
      ]
     },
     "metadata": {},
     "output_type": "display_data"
    },
    {
     "data": {
      "application/vnd.jupyter.widget-view+json": {
       "model_id": "4700a4b0020240ffafaa2468ab6ba050",
       "version_major": 2,
       "version_minor": 0
      },
      "text/plain": [
       "Generating paper_dev split:   0%|          | 0/18999 [00:00<?, ? examples/s]"
      ]
     },
     "metadata": {},
     "output_type": "display_data"
    },
    {
     "data": {
      "application/vnd.jupyter.widget-view+json": {
       "model_id": "d24cbcec0bdf4b799aaf6397c4bd3d97",
       "version_major": 2,
       "version_minor": 0
      },
      "text/plain": [
       "Generating paper_test split:   0%|          | 0/18567 [00:00<?, ? examples/s]"
      ]
     },
     "metadata": {},
     "output_type": "display_data"
    },
    {
     "name": "stdout",
     "output_type": "stream",
     "text": [
      "Dataset fever downloaded and prepared to /home/vscode/.cache/huggingface/datasets/fever/v1.0/1.0.0/7f8936e0558704771b08c7ce9cc202071b29a0050603374507ba61d23c00a58e. Subsequent calls will reuse this data.\n"
     ]
    },
    {
     "data": {
      "application/vnd.jupyter.widget-view+json": {
       "model_id": "ec0ca339b2bd4b87ae0fe5279dfaa2be",
       "version_major": 2,
       "version_minor": 0
      },
      "text/plain": [
       "  0%|          | 0/6 [00:00<?, ?it/s]"
      ]
     },
     "metadata": {},
     "output_type": "display_data"
    }
   ],
   "source": [
    "from datasets import load_dataset\n",
    "\n",
    "dataset = load_dataset(\"fever\", \"v1.0\")"
   ]
  },
  {
   "cell_type": "code",
   "execution_count": 7,
   "metadata": {},
   "outputs": [
    {
     "data": {
      "text/plain": [
       "DatasetDict({\n",
       "    train: Dataset({\n",
       "        features: ['id', 'label', 'claim', 'evidence_annotation_id', 'evidence_id', 'evidence_wiki_url', 'evidence_sentence_id'],\n",
       "        num_rows: 311431\n",
       "    })\n",
       "    labelled_dev: Dataset({\n",
       "        features: ['id', 'label', 'claim', 'evidence_annotation_id', 'evidence_id', 'evidence_wiki_url', 'evidence_sentence_id'],\n",
       "        num_rows: 37566\n",
       "    })\n",
       "    unlabelled_dev: Dataset({\n",
       "        features: ['id', 'label', 'claim', 'evidence_annotation_id', 'evidence_id', 'evidence_wiki_url', 'evidence_sentence_id'],\n",
       "        num_rows: 19998\n",
       "    })\n",
       "    unlabelled_test: Dataset({\n",
       "        features: ['id', 'label', 'claim', 'evidence_annotation_id', 'evidence_id', 'evidence_wiki_url', 'evidence_sentence_id'],\n",
       "        num_rows: 19998\n",
       "    })\n",
       "    paper_dev: Dataset({\n",
       "        features: ['id', 'label', 'claim', 'evidence_annotation_id', 'evidence_id', 'evidence_wiki_url', 'evidence_sentence_id'],\n",
       "        num_rows: 18999\n",
       "    })\n",
       "    paper_test: Dataset({\n",
       "        features: ['id', 'label', 'claim', 'evidence_annotation_id', 'evidence_id', 'evidence_wiki_url', 'evidence_sentence_id'],\n",
       "        num_rows: 18567\n",
       "    })\n",
       "})"
      ]
     },
     "execution_count": 7,
     "metadata": {},
     "output_type": "execute_result"
    }
   ],
   "source": [
    "dataset"
   ]
  },
  {
   "cell_type": "code",
   "execution_count": 8,
   "metadata": {},
   "outputs": [
    {
     "data": {
      "text/html": [
       "<div>\n",
       "<style scoped>\n",
       "    .dataframe tbody tr th:only-of-type {\n",
       "        vertical-align: middle;\n",
       "    }\n",
       "\n",
       "    .dataframe tbody tr th {\n",
       "        vertical-align: top;\n",
       "    }\n",
       "\n",
       "    .dataframe thead th {\n",
       "        text-align: right;\n",
       "    }\n",
       "</style>\n",
       "<table border=\"1\" class=\"dataframe\">\n",
       "  <thead>\n",
       "    <tr style=\"text-align: right;\">\n",
       "      <th></th>\n",
       "      <th>id</th>\n",
       "      <th>label</th>\n",
       "      <th>claim</th>\n",
       "      <th>evidence_annotation_id</th>\n",
       "      <th>evidence_id</th>\n",
       "      <th>evidence_wiki_url</th>\n",
       "      <th>evidence_sentence_id</th>\n",
       "    </tr>\n",
       "  </thead>\n",
       "  <tbody>\n",
       "    <tr>\n",
       "      <th>0</th>\n",
       "      <td>75397</td>\n",
       "      <td>SUPPORTS</td>\n",
       "      <td>Nikolaj Coster-Waldau worked with the Fox Broa...</td>\n",
       "      <td>92206</td>\n",
       "      <td>104971</td>\n",
       "      <td>Nikolaj_Coster-Waldau</td>\n",
       "      <td>7</td>\n",
       "    </tr>\n",
       "    <tr>\n",
       "      <th>1</th>\n",
       "      <td>75397</td>\n",
       "      <td>SUPPORTS</td>\n",
       "      <td>Nikolaj Coster-Waldau worked with the Fox Broa...</td>\n",
       "      <td>92206</td>\n",
       "      <td>104971</td>\n",
       "      <td>Fox_Broadcasting_Company</td>\n",
       "      <td>-1</td>\n",
       "    </tr>\n",
       "    <tr>\n",
       "      <th>2</th>\n",
       "      <td>150448</td>\n",
       "      <td>SUPPORTS</td>\n",
       "      <td>Roman Atwood is a content creator.</td>\n",
       "      <td>174271</td>\n",
       "      <td>187498</td>\n",
       "      <td>Roman_Atwood</td>\n",
       "      <td>1</td>\n",
       "    </tr>\n",
       "    <tr>\n",
       "      <th>3</th>\n",
       "      <td>150448</td>\n",
       "      <td>SUPPORTS</td>\n",
       "      <td>Roman Atwood is a content creator.</td>\n",
       "      <td>174271</td>\n",
       "      <td>187499</td>\n",
       "      <td>Roman_Atwood</td>\n",
       "      <td>3</td>\n",
       "    </tr>\n",
       "    <tr>\n",
       "      <th>4</th>\n",
       "      <td>214861</td>\n",
       "      <td>SUPPORTS</td>\n",
       "      <td>History of art includes architecture, dance, s...</td>\n",
       "      <td>255136</td>\n",
       "      <td>254645</td>\n",
       "      <td>History_of_art</td>\n",
       "      <td>2</td>\n",
       "    </tr>\n",
       "  </tbody>\n",
       "</table>\n",
       "</div>"
      ],
      "text/plain": [
       "       id     label                                              claim  \\\n",
       "0   75397  SUPPORTS  Nikolaj Coster-Waldau worked with the Fox Broa...   \n",
       "1   75397  SUPPORTS  Nikolaj Coster-Waldau worked with the Fox Broa...   \n",
       "2  150448  SUPPORTS                 Roman Atwood is a content creator.   \n",
       "3  150448  SUPPORTS                 Roman Atwood is a content creator.   \n",
       "4  214861  SUPPORTS  History of art includes architecture, dance, s...   \n",
       "\n",
       "   evidence_annotation_id  evidence_id         evidence_wiki_url  \\\n",
       "0                   92206       104971     Nikolaj_Coster-Waldau   \n",
       "1                   92206       104971  Fox_Broadcasting_Company   \n",
       "2                  174271       187498              Roman_Atwood   \n",
       "3                  174271       187499              Roman_Atwood   \n",
       "4                  255136       254645            History_of_art   \n",
       "\n",
       "   evidence_sentence_id  \n",
       "0                     7  \n",
       "1                    -1  \n",
       "2                     1  \n",
       "3                     3  \n",
       "4                     2  "
      ]
     },
     "execution_count": 8,
     "metadata": {},
     "output_type": "execute_result"
    }
   ],
   "source": [
    "import pandas as pd\n",
    "\n",
    "train_df = pd.DataFrame(dataset[\"train\"])\n",
    "train_df.head()"
   ]
  },
  {
   "cell_type": "code",
   "execution_count": 9,
   "metadata": {},
   "outputs": [
    {
     "data": {
      "text/html": [
       "<div>\n",
       "<style scoped>\n",
       "    .dataframe tbody tr th:only-of-type {\n",
       "        vertical-align: middle;\n",
       "    }\n",
       "\n",
       "    .dataframe tbody tr th {\n",
       "        vertical-align: top;\n",
       "    }\n",
       "\n",
       "    .dataframe thead th {\n",
       "        text-align: right;\n",
       "    }\n",
       "</style>\n",
       "<table border=\"1\" class=\"dataframe\">\n",
       "  <thead>\n",
       "    <tr style=\"text-align: right;\">\n",
       "      <th></th>\n",
       "      <th>id</th>\n",
       "      <th>evidence_annotation_id</th>\n",
       "      <th>evidence_id</th>\n",
       "      <th>evidence_sentence_id</th>\n",
       "    </tr>\n",
       "  </thead>\n",
       "  <tbody>\n",
       "    <tr>\n",
       "      <th>count</th>\n",
       "      <td>426559.000000</td>\n",
       "      <td>426559.000000</td>\n",
       "      <td>426559.000000</td>\n",
       "      <td>426559.000000</td>\n",
       "    </tr>\n",
       "    <tr>\n",
       "      <th>mean</th>\n",
       "      <td>105693.017538</td>\n",
       "      <td>150110.983165</td>\n",
       "      <td>126467.638348</td>\n",
       "      <td>3.359059</td>\n",
       "    </tr>\n",
       "    <tr>\n",
       "      <th>std</th>\n",
       "      <td>64198.039311</td>\n",
       "      <td>103065.399105</td>\n",
       "      <td>106337.713512</td>\n",
       "      <td>6.864752</td>\n",
       "    </tr>\n",
       "    <tr>\n",
       "      <th>min</th>\n",
       "      <td>1.000000</td>\n",
       "      <td>-1.000000</td>\n",
       "      <td>-1.000000</td>\n",
       "      <td>-1.000000</td>\n",
       "    </tr>\n",
       "    <tr>\n",
       "      <th>25%</th>\n",
       "      <td>51143.000000</td>\n",
       "      <td>60511.500000</td>\n",
       "      <td>15092.500000</td>\n",
       "      <td>-1.000000</td>\n",
       "    </tr>\n",
       "    <tr>\n",
       "      <th>50%</th>\n",
       "      <td>102848.000000</td>\n",
       "      <td>140950.000000</td>\n",
       "      <td>116331.000000</td>\n",
       "      <td>-1.000000</td>\n",
       "    </tr>\n",
       "    <tr>\n",
       "      <th>75%</th>\n",
       "      <td>156117.000000</td>\n",
       "      <td>238795.500000</td>\n",
       "      <td>219149.500000</td>\n",
       "      <td>6.000000</td>\n",
       "    </tr>\n",
       "    <tr>\n",
       "      <th>max</th>\n",
       "      <td>229449.000000</td>\n",
       "      <td>345076.000000</td>\n",
       "      <td>328496.000000</td>\n",
       "      <td>74.000000</td>\n",
       "    </tr>\n",
       "  </tbody>\n",
       "</table>\n",
       "</div>"
      ],
      "text/plain": [
       "                  id  evidence_annotation_id    evidence_id  \\\n",
       "count  426559.000000           426559.000000  426559.000000   \n",
       "mean   105693.017538           150110.983165  126467.638348   \n",
       "std     64198.039311           103065.399105  106337.713512   \n",
       "min         1.000000               -1.000000      -1.000000   \n",
       "25%     51143.000000            60511.500000   15092.500000   \n",
       "50%    102848.000000           140950.000000  116331.000000   \n",
       "75%    156117.000000           238795.500000  219149.500000   \n",
       "max    229449.000000           345076.000000  328496.000000   \n",
       "\n",
       "       evidence_sentence_id  \n",
       "count         426559.000000  \n",
       "mean               3.359059  \n",
       "std                6.864752  \n",
       "min               -1.000000  \n",
       "25%               -1.000000  \n",
       "50%               -1.000000  \n",
       "75%                6.000000  \n",
       "max               74.000000  "
      ]
     },
     "execution_count": 9,
     "metadata": {},
     "output_type": "execute_result"
    }
   ],
   "source": [
    "dfs = [\n",
    "    train_df,\n",
    "    pd.DataFrame(dataset[\"labelled_dev\"]),\n",
    "    pd.DataFrame(dataset[\"unlabelled_dev\"]),\n",
    "    pd.DataFrame(dataset[\"unlabelled_test\"]),\n",
    "    pd.DataFrame(dataset[\"paper_dev\"]),\n",
    "    pd.DataFrame(dataset[\"paper_test\"]),\n",
    "]\n",
    "\n",
    "df = pd.concat(dfs)\n",
    "\n",
    "df.describe()"
   ]
  },
  {
   "cell_type": "code",
   "execution_count": 10,
   "metadata": {},
   "outputs": [],
   "source": [
    "from pathlib import Path\n",
    "\n",
    "data_dir = Path(\"/tmp/data/\")\n",
    "\n",
    "data_dir.mkdir(parents=True, exist_ok=True)\n",
    "\n",
    "df.to_parquet(str(data_dir / \"fever.snappy.parquet\"))"
   ]
  },
  {
   "cell_type": "code",
   "execution_count": 11,
   "metadata": {},
   "outputs": [
    {
     "name": "stdout",
     "output_type": "stream",
     "text": [
      "total 17M\n",
      "-rw-r--r-- 1 vscode vscode 17M Oct 19 13:58 fever.snappy.parquet\n"
     ]
    }
   ],
   "source": [
    "!ls -lh /tmp/data/"
   ]
  },
  {
   "cell_type": "code",
   "execution_count": null,
   "metadata": {},
   "outputs": [],
   "source": []
  }
 ],
 "metadata": {
  "kernelspec": {
   "display_name": "Python 3.10.7 64-bit",
   "language": "python",
   "name": "python3"
  },
  "language_info": {
   "codemirror_mode": {
    "name": "ipython",
    "version": 3
   },
   "file_extension": ".py",
   "mimetype": "text/x-python",
   "name": "python",
   "nbconvert_exporter": "python",
   "pygments_lexer": "ipython3",
   "version": "3.10.7"
  },
  "orig_nbformat": 4,
  "vscode": {
   "interpreter": {
    "hash": "949777d72b0d2535278d3dc13498b2535136f6dfe0678499012e853ee9abcab1"
   }
  }
 },
 "nbformat": 4,
 "nbformat_minor": 2
}
