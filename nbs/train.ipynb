{
 "cells": [
  {
   "cell_type": "markdown",
   "metadata": {},
   "source": [
    "# Notes\n",
    "\n",
    "- All numeric values (integer, decimal, timestamp) and boolean values should be stored as floats that can be used by the model directly.\n",
    "- String values might be categorical, where we can create a vocabulary, map to integers, and use as numeric values.\n",
    "- String values might be free text, where we can to tokenize them and create a vocabulary.\n",
    "- The model should accept a primary key or row number."
   ]
  },
  {
   "cell_type": "markdown",
   "metadata": {},
   "source": [
    "# Assumptions\n",
    "\n",
    "- <1 million rows, single machines\n",
    "    - Will eventually remove size limitation and support distributed training\n",
    "    - Will also need better way to store embeddings (partitions?)"
   ]
  },
  {
   "cell_type": "markdown",
   "metadata": {},
   "source": [
    "# Initialization"
   ]
  },
  {
   "cell_type": "code",
   "execution_count": 21,
   "metadata": {},
   "outputs": [],
   "source": [
    "from summon.model import NumericModel\n",
    "\n",
    "model = NumericModel(columns=1)"
   ]
  },
  {
   "cell_type": "markdown",
   "metadata": {},
   "source": [
    "# Data"
   ]
  },
  {
   "cell_type": "markdown",
   "metadata": {},
   "source": [
    "TODO: feature and output scaling/normalization (big integers suck to deal with in NNs)"
   ]
  },
  {
   "cell_type": "code",
   "execution_count": 22,
   "metadata": {},
   "outputs": [
    {
     "data": {
      "text/plain": [
       "(torch.Size([426559]), torch.Size([426559]))"
      ]
     },
     "execution_count": 22,
     "metadata": {},
     "output_type": "execute_result"
    }
   ],
   "source": [
    "import torch\n",
    "import pandas as pd\n",
    "import numpy as np\n",
    "from pathlib import Path\n",
    "\n",
    "data_dir = Path(\"/tmp/data/\")\n",
    "\n",
    "df = pd.read_parquet(str(data_dir / \"fever.snappy.parquet\"))\n",
    "\n",
    "X = torch.tensor(df[\"id\"].to_numpy(dtype=np.int32), dtype=torch.int32)\n",
    "Y = torch.tensor(df[\"evidence_annotation_id\"].to_numpy(dtype=np.int32), dtype=torch.int32)\n",
    "\n",
    "X.shape, Y.shape"
   ]
  },
  {
   "cell_type": "code",
   "execution_count": 23,
   "metadata": {},
   "outputs": [
    {
     "data": {
      "text/plain": [
       "tensor([ 75397,  75397, 150448, 150448, 214861, 156709,  83235, 129629, 129629,\n",
       "        149579], dtype=torch.int32)"
      ]
     },
     "execution_count": 23,
     "metadata": {},
     "output_type": "execute_result"
    }
   ],
   "source": [
    "X[:10]"
   ]
  },
  {
   "cell_type": "code",
   "execution_count": 24,
   "metadata": {},
   "outputs": [
    {
     "data": {
      "text/plain": [
       "tensor([ 92206,  92206, 174271, 174271, 255136, 180804, 100277, 151831, 151831,\n",
       "        173384], dtype=torch.int32)"
      ]
     },
     "execution_count": 24,
     "metadata": {},
     "output_type": "execute_result"
    }
   ],
   "source": [
    "Y[:10]"
   ]
  },
  {
   "cell_type": "markdown",
   "metadata": {},
   "source": [
    "# Training"
   ]
  },
  {
   "cell_type": "code",
   "execution_count": 25,
   "metadata": {},
   "outputs": [],
   "source": [
    "from torch.optim import SGD\n",
    "from torch.nn import L1Loss\n",
    "\n",
    "model.train()\n",
    "\n",
    "optimizer = SGD(model.parameters(), lr=1)\n",
    "mae_loss = L1Loss()\n",
    "\n",
    "batch_size = 32"
   ]
  },
  {
   "cell_type": "code",
   "execution_count": 42,
   "metadata": {},
   "outputs": [
    {
     "name": "stdout",
     "output_type": "stream",
     "text": [
      "0 / 100000: 131352.188\n",
      "20000 / 100000: 106876.969\n",
      "40000 / 100000: 129963.844\n",
      "60000 / 100000: 120019.625\n",
      "80000 / 100000: 102921.617\n"
     ]
    }
   ],
   "source": [
    "import torch\n",
    "\n",
    "g = torch.Generator().manual_seed(2147483647)\n",
    "\n",
    "iterations = 100_000\n",
    "\n",
    "for i in range(iterations):\n",
    "    optimizer.zero_grad()\n",
    "\n",
    "    # mini-batch\n",
    "    ix = torch.randint(0, len(X), (batch_size, ), generator=g)\n",
    "    uX, uY = X[ix], Y[ix]\n",
    "\n",
    "    # forward pass\n",
    "    x = uX.view(-1, 1).float()\n",
    "    x = model(x)\n",
    "\n",
    "    # loss\n",
    "    loss = mae_loss(x.view(-1), uY)\n",
    "\n",
    "    # optimize\n",
    "    loss.backward()\n",
    "    optimizer.step()\n",
    "\n",
    "    # track stats\n",
    "    if i % 20_000 == 0:\n",
    "        print(f\"{i} / {iterations}: {loss.item():.3f}\")"
   ]
  },
  {
   "cell_type": "code",
   "execution_count": 46,
   "metadata": {},
   "outputs": [
    {
     "data": {
      "text/plain": [
       "'loss: 114605.2109375'"
      ]
     },
     "execution_count": 46,
     "metadata": {},
     "output_type": "execute_result"
    }
   ],
   "source": [
    "@torch.no_grad()\n",
    "def total_loss() -> \"float\":\n",
    "\n",
    "    # mini-batch\n",
    "    ix = torch.randint(0, len(X), (1000, ), generator=g)\n",
    "    uX, uY = X[ix], Y[ix]\n",
    "\n",
    "    # forward pass\n",
    "    x = uX.view(-1, 1).float()\n",
    "    x = model(x)\n",
    "\n",
    "    # loss\n",
    "    loss = mae_loss(x.view(-1), uY)\n",
    "\n",
    "    return loss.item()\n",
    "\n",
    "f\"loss: {total_loss()}\""
   ]
  }
 ],
 "metadata": {
  "kernelspec": {
   "display_name": "Python 3.10.7 64-bit",
   "language": "python",
   "name": "python3"
  },
  "language_info": {
   "codemirror_mode": {
    "name": "ipython",
    "version": 3
   },
   "file_extension": ".py",
   "mimetype": "text/x-python",
   "name": "python",
   "nbconvert_exporter": "python",
   "pygments_lexer": "ipython3",
   "version": "3.10.7"
  },
  "orig_nbformat": 4,
  "vscode": {
   "interpreter": {
    "hash": "949777d72b0d2535278d3dc13498b2535136f6dfe0678499012e853ee9abcab1"
   }
  }
 },
 "nbformat": 4,
 "nbformat_minor": 2
}
