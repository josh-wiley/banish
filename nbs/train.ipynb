{
 "cells": [
  {
   "cell_type": "markdown",
   "metadata": {},
   "source": [
    "# Notes\n",
    "\n",
    "- All numeric values (integer, decimal, timestamp) and boolean values should be stored as floats that can be used by the model directly.\n",
    "- String values might be categorical, where we can directly create a vocabulary and map them to integers.\n",
    "- String values might be free text, where we can to tokenize them and create a vocabulary.\n",
    "- The model should accept a primary key or row number, and produce the entire row."
   ]
  },
  {
   "cell_type": "markdown",
   "metadata": {},
   "source": [
    "# Assumptions\n",
    "\n",
    "- <1 million rows, single machines\n",
    "    - Will eventually remove size limitation and support distributed training\n",
    "    - Will also need better way to store embeddings (partitions?)"
   ]
  }
 ],
 "metadata": {
  "kernelspec": {
   "display_name": "Python 3.10.7 64-bit",
   "language": "python",
   "name": "python3"
  },
  "language_info": {
   "name": "python",
   "version": "3.10.7"
  },
  "orig_nbformat": 4,
  "vscode": {
   "interpreter": {
    "hash": "949777d72b0d2535278d3dc13498b2535136f6dfe0678499012e853ee9abcab1"
   }
  }
 },
 "nbformat": 4,
 "nbformat_minor": 2
}
