{
 "cells": [
  {
   "cell_type": "markdown",
   "metadata": {},
   "source": [
    "# Notes\n",
    "\n",
    "- All numeric values (integer, decimal, timestamp) and boolean values should be stored as floats that can be used by the model directly.\n",
    "- String values might be categorical, where we can create a vocabulary, map to integers, and use as numeric values.\n",
    "- String values might be free text, where we can to tokenize them and create a vocabulary.\n",
    "- The model should accept a primary key or row number."
   ]
  },
  {
   "cell_type": "markdown",
   "metadata": {},
   "source": [
    "# Assumptions\n",
    "\n",
    "- <1 million rows, single machines\n",
    "    - Will eventually remove size limitation and support distributed training\n",
    "    - Will also need better way to store embeddings (partitions?)"
   ]
  },
  {
   "cell_type": "markdown",
   "metadata": {},
   "source": [
    "# ID Column"
   ]
  },
  {
   "cell_type": "markdown",
   "metadata": {},
   "source": [
    "## Initialization"
   ]
  },
  {
   "cell_type": "code",
   "execution_count": 13,
   "metadata": {},
   "outputs": [],
   "source": [
    "from summon.torch import Numeric\n",
    "\n",
    "model = Numeric(columns=1)"
   ]
  },
  {
   "cell_type": "markdown",
   "metadata": {},
   "source": [
    "## Data"
   ]
  },
  {
   "cell_type": "code",
   "execution_count": 3,
   "metadata": {},
   "outputs": [
    {
     "data": {
      "text/plain": [
       "(torch.Size([426559]), torch.Size([426559]))"
      ]
     },
     "execution_count": 3,
     "metadata": {},
     "output_type": "execute_result"
    }
   ],
   "source": [
    "import torch\n",
    "import pandas as pd\n",
    "import numpy as np\n",
    "from pathlib import Path\n",
    "\n",
    "data_dir = Path(\"/tmp/data/\")\n",
    "\n",
    "df = pd.read_parquet(str(data_dir / \"fever.snappy.parquet\"))\n",
    "\n",
    "X = torch.arange(len(df))\n",
    "Y = torch.tensor(df[\"id\"].to_numpy(dtype=np.int32), dtype=torch.int32)\n",
    "\n",
    "X.shape, Y.shape"
   ]
  },
  {
   "cell_type": "markdown",
   "metadata": {},
   "source": [
    "## Standard Scaling"
   ]
  },
  {
   "cell_type": "markdown",
   "metadata": {},
   "source": [
    "Standard scaling can be used for row numbers. Row numbers are sequential, contiguous, and without any outliers. Min/max scaling can result in very small numbers where double precision is required."
   ]
  },
  {
   "cell_type": "code",
   "execution_count": 4,
   "metadata": {},
   "outputs": [
    {
     "data": {
      "text/plain": [
       "(tensor([0, 1, 2, 3, 4, 5, 6, 7, 8, 9]),\n",
       " tensor([0, 1, 2, 3, 4, 5, 6, 7, 8, 9]),\n",
       " tensor([-1.4066e-05, -1.4066e-05, -1.4066e-05, -1.4066e-05, -1.4066e-05,\n",
       "         -1.4066e-05, -1.4066e-05, -1.4066e-05, -1.4065e-05, -1.4065e-05],\n",
       "        dtype=torch.float64))"
      ]
     },
     "execution_count": 4,
     "metadata": {},
     "output_type": "execute_result"
    }
   ],
   "source": [
    "mean = X.double().mean()\n",
    "var = X.double().var()\n",
    "Xnorm = (X.double() - mean) / var\n",
    "\n",
    "# TODO: this finds false! need to diagnose\n",
    "torch.eq(X, ((Xnorm * var) + mean).long()).all()\n",
    "\n",
    "X[0:10], ((Xnorm[0:10] * var) + mean).long(), Xnorm[0:10]"
   ]
  },
  {
   "cell_type": "markdown",
   "metadata": {},
   "source": [
    "## Min/Max Scaling"
   ]
  },
  {
   "cell_type": "markdown",
   "metadata": {},
   "source": [
    "Min/max scaling ensures data is the the range 0-1. This is useful for data that is not sequential, contiguous, or has outliers. It is also useful for data that is not normally distributed."
   ]
  },
  {
   "cell_type": "code",
   "execution_count": 5,
   "metadata": {},
   "outputs": [
    {
     "data": {
      "text/plain": [
       "(tensor([ 75397,  75397, 150448, 150448, 214861, 156709,  83235, 129629, 129629,\n",
       "         149579], dtype=torch.int32),\n",
       " tensor([ 75397,  75397, 150448, 150448, 214861, 156709,  83235, 129629, 129629,\n",
       "         149579]),\n",
       " tensor([0.3286, 0.3286, 0.6557, 0.6557, 0.9364, 0.6830, 0.3628, 0.5650, 0.5650,\n",
       "         0.6519]))"
      ]
     },
     "execution_count": 5,
     "metadata": {},
     "output_type": "execute_result"
    }
   ],
   "source": [
    "# min/max scaling\n",
    "min = Y.min()\n",
    "max = Y.max()\n",
    "Ynorm = (Y - min) / (max - min)\n",
    "\n",
    "# TODO: this finds false! need to diagnose\n",
    "torch.eq(Y, (Ynorm * (max - min) + min).long()).all()\n",
    "\n",
    "Y[0:10], (Ynorm[0:10] * (max - min) + min).long(), Ynorm[0:10]"
   ]
  },
  {
   "cell_type": "markdown",
   "metadata": {},
   "source": [
    "# Training"
   ]
  },
  {
   "cell_type": "code",
   "execution_count": 14,
   "metadata": {},
   "outputs": [],
   "source": [
    "import torch\n",
    "from torch.optim import SGD\n",
    "from torch.nn import L1Loss\n",
    "\n",
    "g = torch.Generator().manual_seed(2147483647)\n",
    "\n",
    "model.train()\n",
    "\n",
    "optimizer = SGD(model.parameters(), lr=1)\n",
    "mae_loss = L1Loss()\n",
    "\n",
    "batch_size = 32"
   ]
  },
  {
   "cell_type": "code",
   "execution_count": 16,
   "metadata": {},
   "outputs": [
    {
     "name": "stdout",
     "output_type": "stream",
     "text": [
      "0 / 100000: 0.675\n",
      "20000 / 100000: 0.599\n",
      "40000 / 100000: 0.425\n",
      "60000 / 100000: 0.363\n",
      "80000 / 100000: 0.461\n"
     ]
    }
   ],
   "source": [
    "iterations = 1_000_000\n",
    "\n",
    "for i in range(iterations):\n",
    "    optimizer.zero_grad()\n",
    "\n",
    "    # mini-batch\n",
    "    ix = torch.randint(0, len(X), (batch_size, ), generator=g)\n",
    "    uX, uY = Xnorm[ix], Ynorm[ix]\n",
    "\n",
    "    # forward pass\n",
    "    x = uX.view(-1, 1).float()\n",
    "    x = model(x)\n",
    "\n",
    "    # loss\n",
    "    loss = mae_loss(x.view(-1), uY)\n",
    "\n",
    "    # optimize\n",
    "    loss.backward()\n",
    "    optimizer.step()\n",
    "\n",
    "    # track stats\n",
    "    if i % 100_000 == 0:\n",
    "        print(f\"{i} / {iterations}: {loss.item():.3f}\")"
   ]
  },
  {
   "cell_type": "code",
   "execution_count": 18,
   "metadata": {},
   "outputs": [
    {
     "data": {
      "text/plain": [
       "'loss: 0.5209963321685791'"
      ]
     },
     "execution_count": 18,
     "metadata": {},
     "output_type": "execute_result"
    }
   ],
   "source": [
    "@torch.no_grad()\n",
    "def total_loss() -> \"float\":\n",
    "\n",
    "    # mini-batch\n",
    "    ix = torch.randint(0, len(Xnorm), (100_000, ), generator=g)\n",
    "    uX, uY = Xnorm[ix], Ynorm[ix]\n",
    "\n",
    "    # forward pass\n",
    "    x = uX.view(-1, 1).float()\n",
    "    x = model(x)\n",
    "\n",
    "    # loss\n",
    "    loss = mae_loss(x.view(-1), uY)\n",
    "\n",
    "    return loss.item()\n",
    "\n",
    "f\"loss: {total_loss()}\""
   ]
  },
  {
   "cell_type": "code",
   "execution_count": null,
   "metadata": {},
   "outputs": [],
   "source": []
  }
 ],
 "metadata": {
  "kernelspec": {
   "display_name": "Python 3.10.7 64-bit",
   "language": "python",
   "name": "python3"
  },
  "language_info": {
   "codemirror_mode": {
    "name": "ipython",
    "version": 3
   },
   "file_extension": ".py",
   "mimetype": "text/x-python",
   "name": "python",
   "nbconvert_exporter": "python",
   "pygments_lexer": "ipython3",
   "version": "3.10.7"
  },
  "orig_nbformat": 4,
  "vscode": {
   "interpreter": {
    "hash": "949777d72b0d2535278d3dc13498b2535136f6dfe0678499012e853ee9abcab1"
   }
  }
 },
 "nbformat": 4,
 "nbformat_minor": 2
}
